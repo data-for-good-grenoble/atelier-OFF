{
 "cells": [
  {
   "cell_type": "markdown",
   "metadata": {
    "id": "PKbP3vMqs2bc"
   },
   "source": [
    "<a href=\"https://github.com/data-for-good-grenoble/atelier-OFF\" target=\"_blank\"><img src=\"image_meetup_off.png\" width=500px/></a>\n",
    "\n",
    "# 🍫 Atelier d'exploration des données d'Open Food Facts - Meetup Python Grenoble 🐍\n",
    "\n",
    "*Jeudi 27 juin 2024 - 19h - <a href=\"https://turbine.coop/\" target=\"_blank\">La Turbine</a> - Grenoble*\n",
    "\n",
    "**Notations :**\n",
    "\n",
    "▶️ : le code peut être exécuté sans modification\n",
    "\n",
    "💻 : le code doit être créé ou modifié\n",
    "\n",
    "___\n",
    "\n",
    "▶️ Importer les **bibliothèques nécessaires** à l'activité"
   ]
  },
  {
   "cell_type": "code",
   "execution_count": null,
   "metadata": {
    "id": "JWL82rvHq5Cu"
   },
   "outputs": [],
   "source": [
    "import requests\n",
    "import pandas as pd\n",
    "import seaborn as sns\n",
    "import matplotlib.pyplot as plt\n",
    "from sklearn.metrics.pairwise import cosine_similarity"
   ]
  },
  {
   "cell_type": "markdown",
   "metadata": {
    "id": "JJlGSmM2qKfG"
   },
   "source": [
    "## 🎣 PARTIE N°1 : Récupérer un produit de la base de données d'Open Food Facts et classer les produits par similitudes\n",
    "\n",
    "Le modèle de recommandation que l'on construit se base sur des **similitudes des caractéristiques des produits** puis en sélectionnant les produits avec le **meilleur nutriscore**. D'autres **approches par catégories de produits** sont possibles. \n",
    "\n",
    "▶️ Récupérer **500 produits** de la **catégorie \"snacks\"**"
   ]
  },
  {
   "cell_type": "code",
   "execution_count": null,
   "metadata": {
    "colab": {
     "base_uri": "https://localhost:8080/",
     "height": 1000
    },
    "id": "xmUp70JObFoE",
    "outputId": "ef961af4-3768-476e-b9a1-08da19c5d11b"
   },
   "outputs": [],
   "source": [
    "def get_open_food_facts_data(category, page_size=100, num_pages=5):\n",
    "    base_url = \"https://world.openfoodfacts.org/cgi/search.pl\"\n",
    "    products = []\n",
    "    for page in range(1, num_pages + 1):\n",
    "        params = {\n",
    "            'action': 'process',\n",
    "            'tagtype_0': 'categories',\n",
    "            'tag_contains_0': 'contains',\n",
    "            'tag_0': category,\n",
    "            'page_size': page_size,\n",
    "            'page': page,\n",
    "            'json': 1\n",
    "        }\n",
    "        response = requests.get(base_url, params=params)\n",
    "        data = response.json()\n",
    "        products.extend(data.get('products', []))\n",
    "    return products\n",
    "\n",
    "category = 'snacks'\n",
    "data = get_open_food_facts_data(category)\n",
    "df = pd.json_normalize(data)\n",
    "df"
   ]
  },
  {
   "cell_type": "markdown",
   "metadata": {
    "id": "GY44vjUCr0uV"
   },
   "source": [
    "▶️ Analyser les **valeurs manquantes**"
   ]
  },
  {
   "cell_type": "code",
   "execution_count": null,
   "metadata": {
    "id": "EgsvpMH1ryKV"
   },
   "outputs": [],
   "source": [
    "sns.heatmap(df.isna(), cbar=False)\n",
    "plt.show()"
   ]
  },
  {
   "cell_type": "markdown",
   "metadata": {
    "id": "cun1ecSUr9dN"
   },
   "source": [
    "▶️ Sélectionner les **colonnes les plus intéressantes** (5 à 10 colonnes)"
   ]
  },
  {
   "cell_type": "code",
   "execution_count": null,
   "metadata": {
    "id": "TrX89tRNrC_F"
   },
   "outputs": [],
   "source": [
    "# Sélectionner les colonnes d'intérêt\n",
    "columns = ['product_name', 'nutriments.energy_100g', 'nutriments.fat_100g',\n",
    "           'nutriments.carbohydrates_100g', 'nutriments.proteins_100g', 'nutriments.sugars_100g',\n",
    "           'nutriments.salt_100g']\n",
    "df = df[columns]\n",
    "# Renommer les colonnes pour simplifier\n",
    "df.columns = ['product_name', 'energy', 'fat', 'carbohydrates', 'proteins', 'sugars', 'salt']"
   ]
  },
  {
   "cell_type": "markdown",
   "metadata": {
    "id": "8LQoNUkfscrl"
   },
   "source": [
    "▶️ Traiter les **valeurs manquantes**"
   ]
  },
  {
   "cell_type": "code",
   "execution_count": null,
   "metadata": {
    "id": "Xzi9EvX4sdEU"
   },
   "outputs": [],
   "source": [
    "df = df.dropna()"
   ]
  },
  {
   "cell_type": "code",
   "execution_count": null,
   "metadata": {},
   "outputs": [],
   "source": [
    "sns.heatmap(df.isna(), cbar=False)\n",
    "plt.show()"
   ]
  },
  {
   "cell_type": "markdown",
   "metadata": {
    "id": "j5PD19I9ue28"
   },
   "source": [
    "▶️ **Normaliser** les données"
   ]
  },
  {
   "cell_type": "code",
   "execution_count": null,
   "metadata": {
    "id": "mf4Ee6HWqlbW"
   },
   "outputs": [],
   "source": [
    "# Normaliser les données\n",
    "nutritional_data = df[['energy', 'fat', 'carbohydrates', 'proteins', 'sugars', 'salt']]\n",
    "normalized_data = (nutritional_data - nutritional_data.mean()) / nutritional_data.std()"
   ]
  },
  {
   "cell_type": "markdown",
   "metadata": {
    "id": "Au0tF-BqvMEY"
   },
   "source": [
    "▶️ Calculer la **matrice de similarité cosinus**"
   ]
  },
  {
   "cell_type": "code",
   "execution_count": null,
   "metadata": {
    "id": "lXktZ2Wzuk48"
   },
   "outputs": [],
   "source": [
    "# Calculer la similarité cosinus\n",
    "similarity_matrix = cosine_similarity(normalized_data)"
   ]
  },
  {
   "cell_type": "markdown",
   "metadata": {
    "id": "-BD7P-oOvc4d"
   },
   "source": [
    "▶️ Créer le **moteur de recommandation** de produits similaires"
   ]
  },
  {
   "cell_type": "code",
   "execution_count": null,
   "metadata": {
    "id": "Glooueukulwn"
   },
   "outputs": [],
   "source": [
    "def recommend_products(product_name, df, similarity_matrix, top_n=5):\n",
    "    matching_products = df[df['product_name'].str.contains(product_name, case=False, na=False)]\n",
    "    if matching_products.empty:\n",
    "        print(f\"Produit '{product_name}' non trouvé.\")\n",
    "        return pd.DataFrame()\n",
    "    product_index = matching_products.index[0]\n",
    "    similarity_scores = list(enumerate(similarity_matrix[product_index]))\n",
    "    similarity_scores = sorted(similarity_scores, key=lambda x: x[1], reverse=True)\n",
    "    similar_products_indices = [i[0] for i in similarity_scores[1:top_n + 1]]\n",
    "    return df.iloc[similar_products_indices][['product_name', 'energy', 'fat', 'carbohydrates', 'proteins', 'sugars', 'salt']]"
   ]
  },
  {
   "cell_type": "markdown",
   "metadata": {
    "id": "KE4tV4LQvflF"
   },
   "source": [
    "▶️ Tester le moteur de recommandation sur un **exemple de produit**"
   ]
  },
  {
   "cell_type": "code",
   "execution_count": null,
   "metadata": {
    "colab": {
     "base_uri": "https://localhost:8080/"
    },
    "id": "CL7iPe_acLD4",
    "outputId": "304781ff-e40b-40f3-8ebf-23f1539a30bd"
   },
   "outputs": [],
   "source": [
    "# Exemple de recommandation\n",
    "product_name = \"Crackers\"\n",
    "recommended_products = recommend_products(product_name, df, similarity_matrix, top_n=5)\n",
    "print(recommended_products)"
   ]
  },
  {
   "cell_type": "markdown",
   "metadata": {},
   "source": [
    "## 🌍 PARTIE N°2 : trouver des produits avec un meilleur impact environnmental\n",
    "\n",
    "Les données de la base de données d'Open Food Facts ont été **sélectionnées** suivant les critères suivants :\n",
    "\n",
    "- Produits présents en **France**\n",
    "- Avec un **nutriscore valide**\n",
    "- Avec un **écoscore valide**\n",
    "- Avec des colonnes avec **moins de 20% de données manquantes**\n",
    "- Avec une sélection de **colonnes intéressantes**\n",
    "- Avec une sélection aléatoire de **10% des données** (problèmes de temps de calculs)\n",
    "\n",
    "___\n",
    "\n",
    "▶️ **Récupérer les données** pré-traitées de la base de données d'Open Food Facts"
   ]
  },
  {
   "cell_type": "code",
   "execution_count": null,
   "metadata": {},
   "outputs": [],
   "source": [
    "data = pd.read_csv(\"OFF_dataset.csv\")\n",
    "data"
   ]
  },
  {
   "cell_type": "markdown",
   "metadata": {},
   "source": [
    "▶️ **Remplacer les valeurs manquantes** de la colonne \"brands\" par \"-\". Vérifier le **remplissage**"
   ]
  },
  {
   "cell_type": "code",
   "execution_count": null,
   "metadata": {},
   "outputs": [],
   "source": [
    "data['brands'] = data['brands'].fillna(\"-\")"
   ]
  },
  {
   "cell_type": "code",
   "execution_count": null,
   "metadata": {},
   "outputs": [],
   "source": [
    "sns.heatmap(data.isna(), cbar=False)\n",
    "plt.show()"
   ]
  },
  {
   "cell_type": "markdown",
   "metadata": {},
   "source": [
    "▶️ **Supprimer les valeurs manquantes restantes** et vérifier qu'il ne reste plus de valeurs manquantes"
   ]
  },
  {
   "cell_type": "code",
   "execution_count": null,
   "metadata": {},
   "outputs": [],
   "source": [
    "data = data.dropna()"
   ]
  },
  {
   "cell_type": "code",
   "execution_count": null,
   "metadata": {},
   "outputs": [],
   "source": [
    "sns.heatmap(data.isna(), cbar=False)\n",
    "plt.show()"
   ]
  },
  {
   "cell_type": "markdown",
   "metadata": {},
   "source": [
    "💻 **Sélectionner les données** à prendre en compte et **normaliser ces données**"
   ]
  },
  {
   "cell_type": "code",
   "execution_count": null,
   "metadata": {},
   "outputs": [],
   "source": [
    "# A COMPLETER"
   ]
  },
  {
   "cell_type": "markdown",
   "metadata": {},
   "source": [
    "▶️ Calculer la **matrice de similarité cosinus**"
   ]
  },
  {
   "cell_type": "code",
   "execution_count": null,
   "metadata": {},
   "outputs": [],
   "source": [
    "# Calculer la similarité cosinus\n",
    "similarity_matrix = cosine_similarity(normalized_data)"
   ]
  },
  {
   "cell_type": "markdown",
   "metadata": {},
   "source": [
    "💻 **Modifier le moteur de recommandation** de produits similaires et **tester le fonctionnement** sur différents produits"
   ]
  },
  {
   "cell_type": "code",
   "execution_count": null,
   "metadata": {},
   "outputs": [],
   "source": [
    "# A COMPLETER"
   ]
  }
 ],
 "metadata": {
  "colab": {
   "provenance": []
  },
  "kernelspec": {
   "display_name": "Python 3 (ipykernel)",
   "language": "python",
   "name": "python3"
  },
  "language_info": {
   "codemirror_mode": {
    "name": "ipython",
    "version": 3
   },
   "file_extension": ".py",
   "mimetype": "text/x-python",
   "name": "python",
   "nbconvert_exporter": "python",
   "pygments_lexer": "ipython3",
   "version": "3.11.5"
  }
 },
 "nbformat": 4,
 "nbformat_minor": 4
}
