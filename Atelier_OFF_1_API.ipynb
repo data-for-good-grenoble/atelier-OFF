{
 "cells": [
  {
   "cell_type": "markdown",
   "metadata": {},
   "source": [
    "<a href=\"https://github.com/data-for-good-grenoble/atelier-OFF\" target=\"_blank\"><img src=\"image_meetup_off.png\" width=500px/></a>\n",
    "\n",
    "# 🍫 Atelier d'exploration des données d'Open Food Facts - Meetup Python Grenoble 🐍\n",
    "\n",
    "*Jeudi 27 juin 2024 - 19h - <a href=\"https://turbine.coop/\" target=\"_blank\">La Turbine</a> - Grenoble*\n",
    "\n",
    "**Notations :**\n",
    "\n",
    "▶️ : le code peut être exécuté sans modification\n",
    "\n",
    "💻 : le code doit être créé ou modifié\n",
    "\n",
    "___\n",
    "\n",
    "▶️ Importer les **bibliothèques nécessaires** à l'activité"
   ]
  },
  {
   "cell_type": "code",
   "execution_count": null,
   "metadata": {},
   "outputs": [],
   "source": [
    "import requests\n",
    "import pprint"
   ]
  },
  {
   "cell_type": "markdown",
   "metadata": {},
   "source": [
    "## Partie 1 : Récupérer des produits grâce à l'API \"détail\"\n",
    "\n",
    "Documentation :\n",
    "- https://openfoodfacts.github.io/openfoodfacts-server/api/\n",
    "- https://openfoodfacts.github.io/openfoodfacts-server/api/tutorial-off-api/\n",
    "\n",
    "Staging vs Prod ?\n",
    "- staging : `.net`\n",
    "- prod : `.org`\n",
    "\n",
    "Explorer les différentes bases de données\n",
    "- https://world.openfoodfacts.org (3256540000339)\n",
    "- https://world.openproductsfacts.org (3256224068150)\n",
    "- https://world.openbeautyfacts.org (3600541888302)\n",
    "- https://world.openpetfoodfacts.org (0052742855707)\n",
    "\n",
    "💻 Récupérer 1 produit"
   ]
  },
  {
   "cell_type": "code",
   "execution_count": null,
   "metadata": {},
   "outputs": [],
   "source": [
    "product_code = \"3256540000339\"\n",
    "OFF_API_URL = \"https://world.openfoodfacts.org/api/v2/product\"\n",
    "response = requests.get(f\"{OFF_API_URL}/{product_code}\")\n",
    "data = response.json()\n",
    "# print(data)\n",
    "# pprint.pprint(data)\n",
    "print(data['product'].keys())\n",
    "print(len(data['product'].keys()))"
   ]
  },
  {
   "cell_type": "markdown",
   "metadata": {},
   "source": [
    "Il est possible de filtrer le JSON retourné grâce au paramètre d'URL `fields`"
   ]
  },
  {
   "cell_type": "code",
   "execution_count": null,
   "metadata": {
    "scrolled": true
   },
   "outputs": [],
   "source": [
    "product_code = \"3256540000339\"\n",
    "OFF_API_URL = \"https://world.openfoodfacts.org/api/v2/product\"\n",
    "response = requests.get(f\"{OFF_API_URL}/{product_code}?fields=product_name,nutriscore_data,nutriments,nutrition_grades,misc_tags\")\n",
    "data = response.json()\n",
    "print(data['product']['misc_tags'])"
   ]
  },
  {
   "cell_type": "markdown",
   "metadata": {},
   "source": [
    "## Partie 2 : Récupérer des produits grâce à l'API \"search\"\n",
    "\n",
    "Documentation :\n",
    "- https://openfoodfacts.github.io/openfoodfacts-server/api/tutorial-off-api/#search-for-a-product-by-nutri-score\n",
    "- alternative : https://github.com/openfoodfacts/search-a-licious"
   ]
  },
  {
   "cell_type": "code",
   "execution_count": null,
   "metadata": {},
   "outputs": [],
   "source": [
    "QUERY = \"categories_tags_fr=ravioles\"\n",
    "OFF_SEARCH_URL = \"https://world.openfoodfacts.org/api/v2/search\"\n",
    "response = requests.get(f\"{OFF_SEARCH_URL}?{QUERY}\")\n",
    "data = response.json()\n",
    "print(data)"
   ]
  },
  {
   "cell_type": "code",
   "execution_count": null,
   "metadata": {},
   "outputs": [],
   "source": [
    "# alternative en cours de développement\n",
    "QUERY = \"\"\n",
    "OFF_SEARCHALICIOUS_URL = \"https://search.openfoodfacts.org/search\"\n",
    "response = requests.get(f\"{OFF_SEARCHALICIOUS_URL}?q={QUERY}\")\n",
    "data = response.json()"
   ]
  },
  {
   "cell_type": "markdown",
   "metadata": {},
   "source": [
    "## Partie 3 : Créer/modifier un produit\n",
    "\n",
    "Documentation :\n",
    "- https://openfoodfacts.github.io/openfoodfacts-server/api/tutorial-off-api/#completing-products-to-get-the-nutri-score\n",
    "\n",
    "Il faut se créer un compte, car il faudra authentifier les requêtes (`user_id` et `password`)"
   ]
  },
  {
   "cell_type": "code",
   "execution_count": null,
   "metadata": {},
   "outputs": [],
   "source": [
    "OFF_CREATE_API_URL = \"https://world.openfoodfacts.net/cgi/product_jqm2.pl\"\n",
    "DATA = {\n",
    "    \"code\": \"3256540000339\",\n",
    "    \"user_id\": \"\",\n",
    "    \"password\": \"\"\n",
    "}\n",
    "response = requests.post(OFF_CREATE_API_URL, data=DATA)\n",
    "print(response.json())"
   ]
  },
  {
   "cell_type": "markdown",
   "metadata": {},
   "source": [
    "## Bonus : SDK python\n",
    "\n",
    "Documentation :\n",
    "- https://github.com/openfoodfacts/openfoodfacts-python"
   ]
  },
  {
   "cell_type": "code",
   "execution_count": null,
   "metadata": {},
   "outputs": [],
   "source": [
    "import openfoodfacts"
   ]
  },
  {
   "cell_type": "code",
   "execution_count": null,
   "metadata": {},
   "outputs": [],
   "source": [
    "from openfoodfacts import API, APIVersion, Country, Flavor, Environment\n",
    "\n",
    "client = API(\n",
    "    #user_agent=\"Meetup-Grenoble\",\n",
    "    #username=None,\n",
    "    #password=None,\n",
    "    country=Country.world,\n",
    "    flavor=Flavor.off,\n",
    "    version=APIVersion.v2,\n",
    "    environment=Environment.net,\n",
    ")\n",
    "\n",
    "code = \"3017620422003\"\n",
    "client.product.get(code, fields=[\"code\", \"product_name\", \"brands_tags\", \"categories_tags\"])"
   ]
  },
  {
   "cell_type": "code",
   "execution_count": null,
   "metadata": {},
   "outputs": [],
   "source": [
    "client.product.text_search(\"nutella\")"
   ]
  },
  {
   "cell_type": "code",
   "execution_count": null,
   "metadata": {},
   "outputs": [],
   "source": [
    "from openfoodfacts.taxonomy import get_taxonomy\n",
    "\n",
    "# récupérer la taxonomie des catégories (graph)\n",
    "CATEGORIES = get_taxonomy(\"category\")\n",
    "\n",
    "# nombre de catégories\n",
    "# print(len(CATEGORIES))\n",
    "\n",
    "# toutes les catégories 'racine'\n",
    "# print([node for node in CATEGORIES.iter_nodes() if not node.get_parents_hierarchy()])"
   ]
  },
  {
   "cell_type": "code",
   "execution_count": null,
   "metadata": {},
   "outputs": [],
   "source": []
  }
 ],
 "metadata": {
  "kernelspec": {
   "display_name": "Python 3 (ipykernel)",
   "language": "python",
   "name": "python3"
  },
  "language_info": {
   "codemirror_mode": {
    "name": "ipython",
    "version": 3
   },
   "file_extension": ".py",
   "mimetype": "text/x-python",
   "name": "python",
   "nbconvert_exporter": "python",
   "pygments_lexer": "ipython3",
   "version": "3.10.10"
  }
 },
 "nbformat": 4,
 "nbformat_minor": 4
}
